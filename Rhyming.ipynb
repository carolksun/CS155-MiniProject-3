{
 "cells": [
  {
   "cell_type": "markdown",
   "metadata": {},
   "source": [
    "## Rhyming Generation"
   ]
  },
  {
   "cell_type": "code",
   "execution_count": 1,
   "metadata": {},
   "outputs": [
    {
     "name": "stderr",
     "output_type": "stream",
     "text": [
      "Using TensorFlow backend.\n"
     ]
    }
   ],
   "source": [
    "from __future__ import print_function\n",
    "from keras.callbacks import LambdaCallback\n",
    "from keras.models import Sequential\n",
    "from keras.layers import Dense\n",
    "from keras.layers import LSTM\n",
    "from keras.optimizers import RMSprop\n",
    "from keras.utils.data_utils import get_file\n",
    "import numpy as np\n",
    "import random\n",
    "import sys\n",
    "import io\n",
    "\n",
    "from numpy import array\n",
    "from keras.utils import to_categorical\n",
    "from keras.preprocessing.sequence import pad_sequences\n",
    "import string"
   ]
  },
  {
   "cell_type": "code",
   "execution_count": 2,
   "metadata": {},
   "outputs": [],
   "source": [
    "def load_doc(filename):\n",
    "    # open the file as read only\n",
    "    file = open(filename, 'r')\n",
    "    # read all text\n",
    "    text = file.read()\n",
    "    # close the file\n",
    "    file.close()\n",
    "    return text\n",
    "# load text\n",
    "raw_text = load_doc('data/shakespeare_copy.txt')\n",
    "# clean\n",
    "raw_text = ''.join([i for i in raw_text if not i.isdigit()])\n",
    "split_on_punct = list(filter(lambda name: name.strip(), raw_text.split('\\n'))) "
   ]
  },
  {
   "cell_type": "code",
   "execution_count": 3,
   "metadata": {},
   "outputs": [],
   "source": [
    "end_words = []\n",
    "exclude = set(string.punctuation)\n",
    "for element in split_on_punct:\n",
    "    tokens = element.split()\n",
    "    s = ''.join(ch for ch in tokens[-1] if ch not in exclude)\n",
    "    end_words.append(s)"
   ]
  },
  {
   "cell_type": "code",
   "execution_count": 4,
   "metadata": {},
   "outputs": [],
   "source": [
    "rhyming = []\n",
    "for index in range(0, len(end_words), 14):\n",
    "    rhyming.append((end_words[index], end_words[index + 2]))\n",
    "    rhyming.append((end_words[index + 1], end_words[index + 3]))\n",
    "    rhyming.append((end_words[index + 4], end_words[index + 6]))\n",
    "    rhyming.append((end_words[index + 5], end_words[index + 7]))\n",
    "    rhyming.append((end_words[index + 8], end_words[index + 10]))\n",
    "    rhyming.append((end_words[index + 9], end_words[index + 11]))\n",
    "    rhyming.append((end_words[index + 12], end_words[index + 13]))"
   ]
  },
  {
   "cell_type": "code",
   "execution_count": 5,
   "metadata": {},
   "outputs": [],
   "source": [
    "import os\n",
    "import numpy as np\n",
    "from IPython.display import HTML\n",
    "\n",
    "from HMM import unsupervised_HMM\n",
    "from HMM_helper import (\n",
    "    text_to_wordcloud,\n",
    "    states_to_wordclouds,\n",
    "    parse_observations,\n",
    "    sample_sentence,\n",
    "    visualize_sparsities,\n",
    "    animate_emission\n",
    ")"
   ]
  },
  {
   "cell_type": "markdown",
   "metadata": {},
   "source": [
    "## Visualization of the dataset"
   ]
  },
  {
   "cell_type": "markdown",
   "metadata": {},
   "source": [
    "We will be using the Constitution as our dataset. First, we visualize the entirety of the Constitution as a wordcloud:"
   ]
  },
  {
   "cell_type": "code",
   "execution_count": 6,
   "metadata": {},
   "outputs": [],
   "source": [
    "text = open(os.path.join(os.getcwd(), 'data/shakespeare_copy.txt')).read()\n",
    "text_cleaned = ''.join([i for i in text if not i.isdigit()])"
   ]
  },
  {
   "cell_type": "markdown",
   "metadata": {},
   "source": [
    "## Training an HMM"
   ]
  },
  {
   "cell_type": "markdown",
   "metadata": {},
   "source": [
    "Now we train an HMM on our dataset. We use 10 hidden states and train over 100 iterations:"
   ]
  },
  {
   "cell_type": "code",
   "execution_count": 7,
   "metadata": {},
   "outputs": [],
   "source": [
    "obs, obs_map = parse_observations(text_cleaned)"
   ]
  },
  {
   "cell_type": "code",
   "execution_count": 8,
   "metadata": {},
   "outputs": [
    {
     "name": "stdout",
     "output_type": "stream",
     "text": [
      "Iteration: 10\n",
      "Iteration: 20\n",
      "Iteration: 30\n",
      "Iteration: 40\n",
      "Iteration: 50\n",
      "Iteration: 60\n",
      "Iteration: 70\n",
      "Iteration: 80\n",
      "Iteration: 90\n",
      "Iteration: 100\n"
     ]
    }
   ],
   "source": [
    "hmm8 = unsupervised_HMM(obs, 30, 100)"
   ]
  },
  {
   "cell_type": "markdown",
   "metadata": {},
   "source": [
    "## Part G: Visualization of the sparsities of A and O"
   ]
  },
  {
   "cell_type": "markdown",
   "metadata": {
    "jupyter": {
     "source_hidden": true
    }
   },
   "source": [
    "We can visualize the sparsities of the A and O matrices by treating the matrix entries as intensity values and showing them as images. What patterns do you notice?"
   ]
  },
  {
   "cell_type": "code",
   "execution_count": 4,
   "metadata": {
    "collapsed": true,
    "jupyter": {
     "outputs_hidden": true,
     "source_hidden": true
    }
   },
   "outputs": [
    {
     "data": {
      "image/png": "[encoded data removed]",
      "text/plain": [
       "<matplotlib.figure.Figure at 0x7fd64186c940>"
      ]
     },
     "metadata": {},
     "output_type": "display_data"
    },
    {
     "data": {
      "image/png": "[encoded data removed]",
      "text/plain": [
       "<matplotlib.figure.Figure at 0x7fd63dee3cc0>"
      ]
     },
     "metadata": {},
     "output_type": "display_data"
    }
   ],
   "source": [
    "visualize_sparsities(hmm8, O_max_cols=50)"
   ]
  },
  {
   "cell_type": "markdown",
   "metadata": {},
   "source": [
    "## Generating a sample sentence"
   ]
  },
  {
   "cell_type": "markdown",
   "metadata": {},
   "source": [
    "As you have already seen, an HMM can be used to generate sample sequences based on the given dataset. Run the cell below to show a sample sentence based on the Constitution."
   ]
  },
  {
   "cell_type": "code",
   "execution_count": 9,
   "metadata": {},
   "outputs": [
    {
     "name": "stdout",
     "output_type": "stream",
     "text": [
      "Sample Sentence:\n",
      "====================\n",
      "In where nor make vices i tomorrow what eyed\n",
      "Each perhaps under eyes me art not most rest\n",
      "Eternal thou of freedom bring in him master pride\n",
      "In thy thy one youth the ground to oppressed\n",
      "Spirit on therein where days a it thou thee\n",
      "This my of out sweet in now out born\n",
      "From off should thou yet eye the belied be\n",
      "Name sum the before shape said how this forsworn\n",
      "Some or beloved amazeth thy that you and me\n",
      "Bear deaf white thy of shadow i fortune you\n",
      "Decay pupil brow art gives shall can beauty be\n",
      "Bow curious so soul and woe ransom have true\n",
      "Eyes dote seest self to she with i time\n",
      "Runs or that sweets with removed by ornament crime\n",
      "\n"
     ]
    }
   ],
   "source": [
    "print('Sample Sentence:\\n====================')\n",
    "print(sample_sentence(hmm8, obs_map, n_words=9, rhyming_dict = rhyming))"
   ]
  },
  {
   "cell_type": "code",
   "execution_count": 21,
   "metadata": {},
   "outputs": [
    {
     "name": "stdout",
     "output_type": "stream",
     "text": [
      "Sample Sentence:\n",
      "====================\n",
      "Youthful strength steel thy of alchemy a true\n",
      "Who record and their lives fire bounty power\n",
      "To glass departest nothing now lords growst new\n",
      "Defeat mind his methinks perforce me well bower\n",
      "Your of bodys last self unworthiness they break\n",
      "And slain brought more unkind sees silence near\n",
      "Taught beloved me it think when beated speak\n",
      "New thee excuse tyrants but poet with there\n",
      "The than dear my health which two young\n",
      "Came thoughts your call wilt perfection hope costs\n",
      "Of clouds and place the the as tongue\n",
      "To son the the so not for boast\n",
      "Despised greater but yours that think the accumulate\n",
      "Alone disgrace my prove bitter their is hate\n",
      "\n"
     ]
    }
   ],
   "source": [
    "print('Sample Sentence:\\n====================')\n",
    "print(sample_sentence(hmm8, obs_map, n_words=8, rhyming_dict = rhyming))"
   ]
  }
 ],
 "metadata": {
  "kernelspec": {
   "display_name": "Python 3",
   "language": "python",
   "name": "python3"
  },
  "language_info": {
   "codemirror_mode": {
    "name": "ipython",
    "version": 3
   },
   "file_extension": ".py",
   "mimetype": "text/x-python",
   "name": "python",
   "nbconvert_exporter": "python",
   "pygments_lexer": "ipython3",
   "version": "3.7.1"
  }
 },
 "nbformat": 4,
 "nbformat_minor": 4
}
