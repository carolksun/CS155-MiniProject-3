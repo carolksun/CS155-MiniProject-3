{
 "cells": [
  {
   "cell_type": "code",
   "execution_count": 85,
   "metadata": {},
   "outputs": [],
   "source": [
    "import numpy as np\n",
    "from pickle import load\n",
    "from keras.models import load_model\n",
    "from keras.utils import to_categorical\n",
    "from keras.preprocessing.sequence import pad_sequences\n",
    "# load the model\n",
    "model = load_model('model_upper_40_n1.h5')\n",
    "# load the mapping\n",
    "mapping = load(open('mapping_upper.pkl', 'rb'))\n",
    "#firsts = load(open('first_freqs.pkl', 'rb'))"
   ]
  },
  {
   "cell_type": "code",
   "execution_count": 86,
   "metadata": {},
   "outputs": [],
   "source": [
    "from numpy import array\n",
    "from pickle import dump\n",
    "from keras.utils import to_categorical\n",
    "from keras.utils.vis_utils import plot_model\n",
    "from keras.models import Sequential\n",
    "from keras.layers import Dense, Lambda\n",
    "from keras.layers import LSTM\n",
    "from keras.callbacks import EarlyStopping, ModelCheckpoint\n",
    "import re"
   ]
  },
  {
   "cell_type": "code",
   "execution_count": 87,
   "metadata": {},
   "outputs": [],
   "source": [
    "# generate a sequence of characters with a language model\n",
    "def generate_seq(model, mapping, seq_length, seed, n_chars):\n",
    "    in_text = seed\n",
    "    #np.random.choice(list(firsts.keys()), 1, list(firsts.values()))[0]\n",
    "    print(in_text)\n",
    "    len(in_text)\n",
    "    # generate a fixed number of characters\n",
    "    for _ in range(n_chars):\n",
    "        # encode the characters as integers\n",
    "        encoded = [mapping[char] for char in in_text]\n",
    "        # truncate sequences to a fixed length\n",
    "        encoded = pad_sequences([encoded], maxlen=seq_length, truncating='pre')\n",
    "        # one hot encode\n",
    "        encoded = to_categorical(encoded, num_classes=len(mapping))\n",
    "        encoded.shape\n",
    "        # predict character\n",
    "        yhat = model.predict_classes(encoded, verbose=0)\n",
    "        # reverse map integer to character\n",
    "        out_char = ''\n",
    "        for char, index in mapping.items():\n",
    "            if index == yhat:\n",
    "                out_char = char\n",
    "                break\n",
    "            # append to input\n",
    "        in_text += out_char\n",
    "    return in_text"
   ]
  },
  {
   "cell_type": "code",
   "execution_count": 88,
   "metadata": {},
   "outputs": [
    {
     "name": "stdout",
     "output_type": "stream",
     "text": [
      "Vocabulary Size: 61\n"
     ]
    },
    {
     "data": {
      "text/plain": [
       "(18727, 40, 61)"
      ]
     },
     "execution_count": 88,
     "metadata": {},
     "output_type": "execute_result"
    }
   ],
   "source": [
    "def load_doc(filename):\n",
    "    # open the file as read only\n",
    "    file = open(filename, 'r')\n",
    "    # read all text\n",
    "    text = file.read()\n",
    "    # close the file\n",
    "    file.close()\n",
    "    return text\n",
    "# load text\n",
    "#spenser = load_doc('data/spenser.txt')\n",
    "#spenser = \"\\n\\n\" + spenser\n",
    "#spenser = re.sub(\"\\n\\n(.*)\\n\\n\", \"\\n\\n\", spenser)[2:]\n",
    "shakes = load_doc('data/shakespeare.txt')\n",
    "shakes = ''.join([i for i in shakes if not i.isdigit()])\n",
    "#raw_text = spenser + shakes\n",
    "raw_text = shakes\n",
    "tokens = raw_text.split()\n",
    "raw_text = ' '.join(tokens)\n",
    "\n",
    "#organize into sequences of characters\n",
    "length = 40\n",
    "n = 5\n",
    "sequences = list()\n",
    "for i in range(length, len(raw_text), n):\n",
    "    # select sequence of tokens\n",
    "    seq = raw_text[i-length:i+1]\n",
    "    # store\n",
    "    sequences.append(seq)\n",
    "    #print('Total Sequences: %d' % len(sequences))\n",
    "\n",
    "# save tokens to file, one dialog per line\n",
    "def save_doc(lines, filename):\n",
    "    data = '\\n'.join(lines)\n",
    "    file = open(filename, 'w')\n",
    "    file.write(data)\n",
    "    file.close()    \n",
    "# save sequences to file\n",
    "out_filename = 'char_sequences.txt'\n",
    "save_doc(sequences, out_filename)\n",
    "\n",
    "\n",
    "#load\n",
    "in_filename = 'char_sequences.txt'\n",
    "raw_text = load_doc(in_filename)\n",
    "lines = raw_text.split('\\n')\n",
    "chars = sorted(list(set(raw_text)))\n",
    "mapping = dict((c, i) for i, c in enumerate(chars))\n",
    "\n",
    "\n",
    "sequences = list()\n",
    "for line in lines:\n",
    "    #integer encode line\n",
    "    encoded_seq = [mapping[char] for char in line]\n",
    "    #store\n",
    "    sequences.append(encoded_seq)\n",
    "#vocabulary size\n",
    "vocab_size = len(mapping)\n",
    "print('Vocabulary Size: %d' % vocab_size)\n",
    "\n",
    "sequences = np.array(sequences)\n",
    "X, y = sequences[:,:-1], sequences[:,-1]\n",
    "sequences = [to_categorical(x, num_classes=vocab_size) for x in X]\n",
    "X = np.array(sequences)\n",
    "y = to_categorical(y, num_classes=vocab_size)\n",
    "X.shape"
   ]
  },
  {
   "cell_type": "code",
   "execution_count": 89,
   "metadata": {},
   "outputs": [],
   "source": [
    "temp_weights = [layer.get_weights() for layer in model.layers]\n"
   ]
  },
  {
   "cell_type": "code",
   "execution_count": 90,
   "metadata": {},
   "outputs": [],
   "source": [
    "# test start of rhyme\n",
    "model = Sequential()\n",
    "model.add(LSTM(150, input_shape=(X.shape[1], X.shape[2])))\n",
    "model.add(Lambda(lambda x: x / 1))\n",
    "model.add(Dense(vocab_size, activation='softmax'))\n",
    "# compile model\n",
    "model.compile(loss='categorical_crossentropy', optimizer='adam', metrics=['accuracy'])"
   ]
  },
  {
   "cell_type": "code",
   "execution_count": 91,
   "metadata": {},
   "outputs": [],
   "source": [
    "model.layers[0].set_weights(temp_weights[0])"
   ]
  },
  {
   "cell_type": "code",
   "execution_count": 92,
   "metadata": {},
   "outputs": [],
   "source": [
    "model.layers[2].set_weights(temp_weights[1])"
   ]
  },
  {
   "cell_type": "code",
   "execution_count": 93,
   "metadata": {},
   "outputs": [
    {
     "name": "stdout",
     "output_type": "stream",
     "text": [
      "\n",
      " ty thrue show, To dwe mourn found it in the strength wrong, And so it were your self will be thy deeds, The part of thy self thy self well doth lie, Mad shar when it doth that thou dost best To be a tit it seem the mone thee him, And the present of me to good with thee here, And therefore to the world which in thy brow, For where thou art my beloved of my mine, Thou best is my self to my shadow me, I love thee alone deceiving him thy sweet, To should that beauty of thy self aming, And you and therefore doth power to grans, And be a summen doth lived a mowled stand Upon thy self answeetts do not so, Then my love that thou thought thee is my heart, And therefore with the world that thou despive, Though no conttim) me than his beauty lees, The bounteous shame delight when thou art more with thee, Who that thou thy self doth be ten sings Poor ranong my verse is thy should to me, The beauty of thy self amsevoly show, Thing enjoy the thought of my sing of me, To me that I importic this I cold no, Than the morn defect with my self doth lie, Making hear therefore hath that thy pleasure, And therefore with the beauty of thee me, The basest my love that thou art more to me, The other to come thee hash thou dost best in mind, And summer's shame will me not in shows To det her false summer or earth And there thou art my bolds and strangely? Lay my love shows me, Thou bred the barren of my time, And doth soul that I being me than his gust, And there alone as thou art asspaired, Anowny my sinst I do but for my self From him there of my sinful hand me, To sin ugh riders her perfure is not, That strength to my self will be thy staided, And strange more delight with too manuell treathed. And he looks his shall so survecty still, That thou art my forth and more reason is, And thou art then thou after in thy deeds, And you must no summer or eyes of my sight, Thou by to my self am thou hast thou depard Will beauty of thy worth of such a time, Which is the dear love to the self will de\n"
     ]
    }
   ],
   "source": [
    "print(generate_seq(model, mapping, 40, \"\", 2000))"
   ]
  },
  {
   "cell_type": "code",
   "execution_count": null,
   "metadata": {},
   "outputs": [],
   "source": []
  },
  {
   "cell_type": "code",
   "execution_count": null,
   "metadata": {},
   "outputs": [],
   "source": []
  }
 ],
 "metadata": {
  "kernelspec": {
   "display_name": "Python 3",
   "language": "python",
   "name": "python3"
  },
  "language_info": {
   "codemirror_mode": {
    "name": "ipython",
    "version": 3
   },
   "file_extension": ".py",
   "mimetype": "text/x-python",
   "name": "python",
   "nbconvert_exporter": "python",
   "pygments_lexer": "ipython3",
   "version": "3.7.4"
  }
 },
 "nbformat": 4,
 "nbformat_minor": 4
}
